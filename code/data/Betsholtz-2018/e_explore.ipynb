{
 "metadata": {
  "orig_nbformat": 2,
  "kernelspec": {
   "name": "python38564bitvenvvenvc417eeb3119745d484776510ae5e6a30",
   "display_name": "Python 3.8.5 64-bit ('venv': venv)"
  },
  "metadata": {
   "interpreter": {
    "hash": "b7d3a772f8ddddf8f845385e9e818d4d04a9e362f9e4d37b830f3cf2e8bcd77c"
   }
  }
 },
 "nbformat": 4,
 "nbformat_minor": 2,
 "cells": [
  {
   "cell_type": "code",
   "execution_count": 2,
   "metadata": {},
   "outputs": [],
   "source": [
    "from bugs import *"
   ]
  },
  {
   "cell_type": "code",
   "execution_count": 1,
   "metadata": {},
   "outputs": [],
   "source": [
    "from z_sources import df_expr, df_meta, df_mrkr"
   ]
  },
  {
   "cell_type": "code",
   "execution_count": 18,
   "metadata": {},
   "outputs": [],
   "source": [
    "log1p = lambda x: np.log(1 + x)"
   ]
  },
  {
   "cell_type": "code",
   "execution_count": 36,
   "metadata": {},
   "outputs": [
    {
     "output_type": "display_data",
     "data": {
      "text/plain": "<Figure size 1080x720 with 1 Axes>",
      "image/svg+xml": "<?xml version=\"1.0\" encoding=\"utf-8\" standalone=\"no\"?>\n<!DOCTYPE svg PUBLIC \"-//W3C//DTD SVG 1.1//EN\"\n  \"http://www.w3.org/Graphics/SVG/1.1/DTD/svg11.dtd\">\n<!-- Created with matplotlib (https://matplotlib.org/) -->\n<svg height=\"13.11907pt\" version=\"1.1\" viewBox=\"0 0 336.24 13.11907\" width=\"336.24pt\" xmlns=\"http://www.w3.org/2000/svg\" xmlns:xlink=\"http://www.w3.org/1999/xlink\">\n <metadata>\n  <rdf:RDF xmlns:cc=\"http://creativecommons.org/ns#\" xmlns:dc=\"http://purl.org/dc/elements/1.1/\" xmlns:rdf=\"http://www.w3.org/1999/02/22-rdf-syntax-ns#\">\n   <cc:Work>\n    <dc:type rdf:resource=\"http://purl.org/dc/dcmitype/StillImage\"/>\n    <dc:date>2021-04-16T11:06:05.197834</dc:date>\n    <dc:format>image/svg+xml</dc:format>\n    <dc:creator>\n     <cc:Agent>\n      <dc:title>Matplotlib v3.3.4, https://matplotlib.org/</dc:title>\n     </cc:Agent>\n    </dc:creator>\n   </cc:Work>\n  </rdf:RDF>\n </metadata>\n <defs>\n  <style type=\"text/css\">*{stroke-linecap:butt;stroke-linejoin:round;}</style>\n </defs>\n <g id=\"figure_1\">\n  <g id=\"patch_1\">\n   <path d=\"M 0 13.11907 \nL 336.24 13.11907 \nL 336.24 0 \nL 0 0 \nz\n\" style=\"fill:none;\"/>\n  </g>\n  <g id=\"axes_1\">\n   <g clip-path=\"url(#p35103d3cf7)\">\n    <image height=\"12\" id=\"image38a762a961\" transform=\"scale(1 -1)translate(0 -12)\" width=\"334.8\" x=\"0.72\" xlink:href=\"data:image/png;base64,\niVBORw0KGgoAAAANSUhEUgAAA0UAAAAeCAYAAADjJrUcAAAC1klEQVR4nO3dTU4UQRgG4KruAYZfBXd6Cc9gSLwAHtaNZ/ASukIUIsygTLc7ExemX2ODxHqe9Zuq7vqb/mBR9bR7M5ZAt7s7mak7O0lTpS6z3Hh9E+UifZ/lFosotjk/j3LdwcFkpu5sZ31+uohy/clx1t7ny+m2np1EbZW7u6zPy6vp0LCJ2uqWyyhXDw+j3LheT2aGdE2OQxTrwj0z3N5m/SZ97u1lfa6mx6OUcI2E4zF+vY5yyZzG+yVc4+N1+GzbW9Oh9Jy5+BLl0vEttZuOhGfluMn26b/Q7WZnQ7LG52yrlBLPVTIP8RwE8/5HkndI+wzP+0itYW7m8Qh04XfPsJ7vrI/NeH6UUvI57YKzJn22VPIOc4/H3O8Q9Rl92ufSvRW19fDnUfqt9fAnAwAAwCOiKAIAAJqmKAIAAJqmKAIAAJqmKAIAAJqmKAIAAJqmKAIAAJqmKAIAAJqmKAIAAJpWT+vZzNfeTuv29qLccHMzW3txW/v7UW4Ib7d/1ILbpPuDbDw2V1d/+zQ/zb0+6tZ2lBu/f4ty/Ko7PJzM1PA27DnX0f+gWy6z4NZWFBuugz0T3r6e7tOyCW6374Ob7Uspw2od5WqXrbfkHdI1mf52RONRShnW0+/aHx9HbY2r1Wx9lhLOfTintZ/xb7ND9jkTz2lwtpUSnm/hmhw32f4b17dRrtvfjXJRn+GzpZJxG8P9ku6r0k2vt7pYZG2F0vXWHx1NZuLxCNXt7Pso+V3YXIa/32O2T/unT7L2gn2fjpv/FAEAAE1TFAEAAE1TFAEAAE1TFAEAAE1TFAEAAE1TFAEAAE1TFAEAAE1TFAEAAE1TFAEAAE2rp/Usu1oWACDw9uP7KPf6+ct7fQ7g9+q7F1FufPXhnp/kcfCfIgAAoGmKIgAAoGmKIgAAoGmKIgAAoGmKIgAAoGmKIgAAoGmKIgAAoGmKIgAAoGmKIgAAoGk/AFdjsSzsoc8xAAAAAElFTkSuQmCC\" y=\"-0.39907\"/>\n   </g>\n  </g>\n </g>\n <defs>\n  <clipPath id=\"p35103d3cf7\">\n   <rect height=\"11.67907\" width=\"334.8\" x=\"0.72\" y=\"0.72\"/>\n  </clipPath>\n </defs>\n</svg>\n",
      "image/png": "[encoded data removed]"
     },
     "metadata": {
      "needs_background": "light"
     }
    }
   ],
   "source": [
    "y = df_meta[df_meta.celltype.str.startswith(\"FB\")]\n",
    "y = y.sort_values(\"celltype\")\n",
    "x = df_expr.reindex(y.index).T.loc[[\"Wdr89\", \"Adam12\", \"Ptgds\"], :]\n",
    "x = log1p(x) #.groupby(y.celltype).sum()\n",
    "x = x.div(x.sum(axis=1), axis=0)\n",
    "with Plox() as px:\n",
    "    px.a.imshow(x)\n",
    "    px.a.axis('off')\n",
    "    px.show()"
   ]
  },
  {
   "cell_type": "code",
   "execution_count": 32,
   "metadata": {},
   "outputs": [
    {
     "output_type": "execute_result",
     "data": {
      "text/plain": [
       "                    gsm                                               sra  \\\n",
       "sample                                                                      \n",
       "EC3_A1       GSM2612548  https://www.ncbi.nlm.nih.gov/sra?term=SRX2798652   \n",
       "EC3_A10      GSM2612539  https://www.ncbi.nlm.nih.gov/sra?term=SRX2798643   \n",
       "EC3_A11      GSM2612540  https://www.ncbi.nlm.nih.gov/sra?term=SRX2798644   \n",
       "EC3_A12      GSM2612541  https://www.ncbi.nlm.nih.gov/sra?term=SRX2798645   \n",
       "EC3_A13      GSM2612542  https://www.ncbi.nlm.nih.gov/sra?term=SRX2798646   \n",
       "...                 ...                                               ...   \n",
       "Pdgfra2_P19  GSM2615719  https://www.ncbi.nlm.nih.gov/sra?term=SRX2801824   \n",
       "Pdgfra2_P23  GSM2615721  https://www.ncbi.nlm.nih.gov/sra?term=SRX2801826   \n",
       "Pdgfra2_P24  GSM2615722  https://www.ncbi.nlm.nih.gov/sra?term=SRX2801827   \n",
       "Pdgfra2_P4   GSM2615723  https://www.ncbi.nlm.nih.gov/sra?term=SRX2801828   \n",
       "Pdgfra2_P7   GSM2615724  https://www.ncbi.nlm.nih.gov/sra?term=SRX2801829   \n",
       "\n",
       "             taxid                                          biosample  \\\n",
       "sample                                                                  \n",
       "EC3_A1       10090  https://www.ncbi.nlm.nih.gov/biosample/SAMN069...   \n",
       "EC3_A10      10090  https://www.ncbi.nlm.nih.gov/biosample/SAMN069...   \n",
       "EC3_A11      10090  https://www.ncbi.nlm.nih.gov/biosample/SAMN069...   \n",
       "EC3_A12      10090  https://www.ncbi.nlm.nih.gov/biosample/SAMN069...   \n",
       "EC3_A13      10090  https://www.ncbi.nlm.nih.gov/biosample/SAMN069...   \n",
       "...            ...                                                ...   \n",
       "Pdgfra2_P19  10090  https://www.ncbi.nlm.nih.gov/biosample/SAMN069...   \n",
       "Pdgfra2_P23  10090  https://www.ncbi.nlm.nih.gov/biosample/SAMN069...   \n",
       "Pdgfra2_P24  10090  https://www.ncbi.nlm.nih.gov/biosample/SAMN069...   \n",
       "Pdgfra2_P4   10090  https://www.ncbi.nlm.nih.gov/biosample/SAMN069...   \n",
       "Pdgfra2_P7   10090  https://www.ncbi.nlm.nih.gov/biosample/SAMN069...   \n",
       "\n",
       "              strain tissue        genotype                            age  \\\n",
       "sample                                                                       \n",
       "EC3_A1       c57bl/6  brain  cldn5(bac)egfp  adult mice 12 to 15 weeks old   \n",
       "EC3_A10      c57bl/6  brain  cldn5(bac)egfp  adult mice 12 to 15 weeks old   \n",
       "EC3_A11      c57bl/6  brain  cldn5(bac)egfp  adult mice 12 to 15 weeks old   \n",
       "EC3_A12      c57bl/6  brain  cldn5(bac)egfp  adult mice 12 to 15 weeks old   \n",
       "EC3_A13      c57bl/6  brain  cldn5(bac)egfp  adult mice 12 to 15 weeks old   \n",
       "...              ...    ...             ...                            ...   \n",
       "Pdgfra2_P19  c57bl/6  brain   pdgfra-h2bgfp  adult mice 12 to 15 weeks old   \n",
       "Pdgfra2_P23  c57bl/6  brain   pdgfra-h2bgfp  adult mice 12 to 15 weeks old   \n",
       "Pdgfra2_P24  c57bl/6  brain   pdgfra-h2bgfp  adult mice 12 to 15 weeks old   \n",
       "Pdgfra2_P4   c57bl/6  brain   pdgfra-h2bgfp  adult mice 12 to 15 weeks old   \n",
       "Pdgfra2_P7   c57bl/6  brain   pdgfra-h2bgfp  adult mice 12 to 15 weeks old   \n",
       "\n",
       "                              title   accession  ...      organism  \\\n",
       "sample                                           ...                 \n",
       "EC3_A1         Brain single cell 10  GSM2612548  ...  Mus musculus   \n",
       "EC3_A10         Brain single cell 1  GSM2612539  ...  Mus musculus   \n",
       "EC3_A11         Brain single cell 2  GSM2612540  ...  Mus musculus   \n",
       "EC3_A12         Brain single cell 3  GSM2612541  ...  Mus musculus   \n",
       "EC3_A13         Brain single cell 4  GSM2612542  ...  Mus musculus   \n",
       "...                             ...         ...  ...           ...   \n",
       "Pdgfra2_P19  Brain single cell 3181  GSM2615719  ...  Mus musculus   \n",
       "Pdgfra2_P23  Brain single cell 3183  GSM2615721  ...  Mus musculus   \n",
       "Pdgfra2_P24  Brain single cell 3184  GSM2615722  ...  Mus musculus   \n",
       "Pdgfra2_P4   Brain single cell 3185  GSM2615723  ...  Mus musculus   \n",
       "Pdgfra2_P7   Brain single cell 3186  GSM2615724  ...  Mus musculus   \n",
       "\n",
       "                        Mouse ID strain (desc) genotype (desc) age (desc)  \\\n",
       "sample                                                                      \n",
       "EC3_A1       Mouse_160114_Female       C57BL/6  Cldn5(BAC)eGFP      adult   \n",
       "EC3_A10      Mouse_160114_Female       C57BL/6  Cldn5(BAC)eGFP      adult   \n",
       "EC3_A11      Mouse_160114_Female       C57BL/6  Cldn5(BAC)eGFP      adult   \n",
       "EC3_A12      Mouse_160114_Female       C57BL/6  Cldn5(BAC)eGFP      adult   \n",
       "EC3_A13      Mouse_160114_Female       C57BL/6  Cldn5(BAC)eGFP      adult   \n",
       "...                          ...           ...             ...        ...   \n",
       "Pdgfra2_P19  Mouse_160301_pooled       C57BL/6   Pdgfra-H2BGFP      adult   \n",
       "Pdgfra2_P23  Mouse_160301_pooled       C57BL/6   Pdgfra-H2BGFP      adult   \n",
       "Pdgfra2_P24  Mouse_160301_pooled       C57BL/6   Pdgfra-H2BGFP      adult   \n",
       "Pdgfra2_P4   Mouse_160301_pooled       C57BL/6   Pdgfra-H2BGFP      adult   \n",
       "Pdgfra2_P7   Mouse_160301_pooled       C57BL/6   Pdgfra-H2BGFP      adult   \n",
       "\n",
       "            tissue origin celltype  BioSample ID      SRA ID Sequenced Reads  \n",
       "sample                                                                        \n",
       "EC3_A1              Brain      EC1  SAMN06929658  SRX2798652          776609  \n",
       "EC3_A10             Brain      aEC  SAMN06929667  SRX2798643          693266  \n",
       "EC3_A11             Brain  capilEC  SAMN06929666  SRX2798644          812809  \n",
       "EC3_A12             Brain      aEC  SAMN06929665  SRX2798645          736773  \n",
       "EC3_A13             Brain      EC3  SAMN06929664  SRX2798646          655327  \n",
       "...                   ...      ...           ...         ...             ...  \n",
       "Pdgfra2_P19         Brain       OL  SAMN06932844  SRX2801824         1044770  \n",
       "Pdgfra2_P23         Brain       OL  SAMN06932842  SRX2801826         1009231  \n",
       "Pdgfra2_P24         Brain       OL  SAMN06932841  SRX2801827         1084118  \n",
       "Pdgfra2_P4          Brain      FB2  SAMN06932840  SRX2801828          991934  \n",
       "Pdgfra2_P7          Brain       OL  SAMN06932839  SRX2801829          976937  \n",
       "\n",
       "[3186 rows x 21 columns]"
      ],
      "text/html": "<div>\n<style scoped>\n    .dataframe tbody tr th:only-of-type {\n        vertical-align: middle;\n    }\n\n    .dataframe tbody tr th {\n        vertical-align: top;\n    }\n\n    .dataframe thead th {\n        text-align: right;\n    }\n</style>\n<table border=\"1\" class=\"dataframe\">\n  <thead>\n    <tr style=\"text-align: right;\">\n      <th></th>\n      <th>gsm</th>\n      <th>sra</th>\n      <th>taxid</th>\n      <th>biosample</th>\n      <th>strain</th>\n      <th>tissue</th>\n      <th>genotype</th>\n      <th>age</th>\n      <th>title</th>\n      <th>accession</th>\n      <th>...</th>\n      <th>organism</th>\n      <th>Mouse ID</th>\n      <th>strain (desc)</th>\n      <th>genotype (desc)</th>\n      <th>age (desc)</th>\n      <th>tissue origin</th>\n      <th>celltype</th>\n      <th>BioSample ID</th>\n      <th>SRA ID</th>\n      <th>Sequenced Reads</th>\n    </tr>\n    <tr>\n      <th>sample</th>\n      <th></th>\n      <th></th>\n      <th></th>\n      <th></th>\n      <th></th>\n      <th></th>\n      <th></th>\n      <th></th>\n      <th></th>\n      <th></th>\n      <th></th>\n      <th></th>\n      <th></th>\n      <th></th>\n      <th></th>\n      <th></th>\n      <th></th>\n      <th></th>\n      <th></th>\n      <th></th>\n      <th></th>\n    </tr>\n  </thead>\n  <tbody>\n    <tr>\n      <th>EC3_A1</th>\n      <td>GSM2612548</td>\n      <td>https://www.ncbi.nlm.nih.gov/sra?term=SRX2798652</td>\n      <td>10090</td>\n      <td>https://www.ncbi.nlm.nih.gov/biosample/SAMN069...</td>\n      <td>c57bl/6</td>\n      <td>brain</td>\n      <td>cldn5(bac)egfp</td>\n      <td>adult mice 12 to 15 weeks old</td>\n      <td>Brain single cell 10</td>\n      <td>GSM2612548</td>\n      <td>...</td>\n      <td>Mus musculus</td>\n      <td>Mouse_160114_Female</td>\n      <td>C57BL/6</td>\n      <td>Cldn5(BAC)eGFP</td>\n      <td>adult</td>\n      <td>Brain</td>\n      <td>EC1</td>\n      <td>SAMN06929658</td>\n      <td>SRX2798652</td>\n      <td>776609</td>\n    </tr>\n    <tr>\n      <th>EC3_A10</th>\n      <td>GSM2612539</td>\n      <td>https://www.ncbi.nlm.nih.gov/sra?term=SRX2798643</td>\n      <td>10090</td>\n      <td>https://www.ncbi.nlm.nih.gov/biosample/SAMN069...</td>\n      <td>c57bl/6</td>\n      <td>brain</td>\n      <td>cldn5(bac)egfp</td>\n      <td>adult mice 12 to 15 weeks old</td>\n      <td>Brain single cell 1</td>\n      <td>GSM2612539</td>\n      <td>...</td>\n      <td>Mus musculus</td>\n      <td>Mouse_160114_Female</td>\n      <td>C57BL/6</td>\n      <td>Cldn5(BAC)eGFP</td>\n      <td>adult</td>\n      <td>Brain</td>\n      <td>aEC</td>\n      <td>SAMN06929667</td>\n      <td>SRX2798643</td>\n      <td>693266</td>\n    </tr>\n    <tr>\n      <th>EC3_A11</th>\n      <td>GSM2612540</td>\n      <td>https://www.ncbi.nlm.nih.gov/sra?term=SRX2798644</td>\n      <td>10090</td>\n      <td>https://www.ncbi.nlm.nih.gov/biosample/SAMN069...</td>\n      <td>c57bl/6</td>\n      <td>brain</td>\n      <td>cldn5(bac)egfp</td>\n      <td>adult mice 12 to 15 weeks old</td>\n      <td>Brain single cell 2</td>\n      <td>GSM2612540</td>\n      <td>...</td>\n      <td>Mus musculus</td>\n      <td>Mouse_160114_Female</td>\n      <td>C57BL/6</td>\n      <td>Cldn5(BAC)eGFP</td>\n      <td>adult</td>\n      <td>Brain</td>\n      <td>capilEC</td>\n      <td>SAMN06929666</td>\n      <td>SRX2798644</td>\n      <td>812809</td>\n    </tr>\n    <tr>\n      <th>EC3_A12</th>\n      <td>GSM2612541</td>\n      <td>https://www.ncbi.nlm.nih.gov/sra?term=SRX2798645</td>\n      <td>10090</td>\n      <td>https://www.ncbi.nlm.nih.gov/biosample/SAMN069...</td>\n      <td>c57bl/6</td>\n      <td>brain</td>\n      <td>cldn5(bac)egfp</td>\n      <td>adult mice 12 to 15 weeks old</td>\n      <td>Brain single cell 3</td>\n      <td>GSM2612541</td>\n      <td>...</td>\n      <td>Mus musculus</td>\n      <td>Mouse_160114_Female</td>\n      <td>C57BL/6</td>\n      <td>Cldn5(BAC)eGFP</td>\n      <td>adult</td>\n      <td>Brain</td>\n      <td>aEC</td>\n      <td>SAMN06929665</td>\n      <td>SRX2798645</td>\n      <td>736773</td>\n    </tr>\n    <tr>\n      <th>EC3_A13</th>\n      <td>GSM2612542</td>\n      <td>https://www.ncbi.nlm.nih.gov/sra?term=SRX2798646</td>\n      <td>10090</td>\n      <td>https://www.ncbi.nlm.nih.gov/biosample/SAMN069...</td>\n      <td>c57bl/6</td>\n      <td>brain</td>\n      <td>cldn5(bac)egfp</td>\n      <td>adult mice 12 to 15 weeks old</td>\n      <td>Brain single cell 4</td>\n      <td>GSM2612542</td>\n      <td>...</td>\n      <td>Mus musculus</td>\n      <td>Mouse_160114_Female</td>\n      <td>C57BL/6</td>\n      <td>Cldn5(BAC)eGFP</td>\n      <td>adult</td>\n      <td>Brain</td>\n      <td>EC3</td>\n      <td>SAMN06929664</td>\n      <td>SRX2798646</td>\n      <td>655327</td>\n    </tr>\n    <tr>\n      <th>...</th>\n      <td>...</td>\n      <td>...</td>\n      <td>...</td>\n      <td>...</td>\n      <td>...</td>\n      <td>...</td>\n      <td>...</td>\n      <td>...</td>\n      <td>...</td>\n      <td>...</td>\n      <td>...</td>\n      <td>...</td>\n      <td>...</td>\n      <td>...</td>\n      <td>...</td>\n      <td>...</td>\n      <td>...</td>\n      <td>...</td>\n      <td>...</td>\n      <td>...</td>\n      <td>...</td>\n    </tr>\n    <tr>\n      <th>Pdgfra2_P19</th>\n      <td>GSM2615719</td>\n      <td>https://www.ncbi.nlm.nih.gov/sra?term=SRX2801824</td>\n      <td>10090</td>\n      <td>https://www.ncbi.nlm.nih.gov/biosample/SAMN069...</td>\n      <td>c57bl/6</td>\n      <td>brain</td>\n      <td>pdgfra-h2bgfp</td>\n      <td>adult mice 12 to 15 weeks old</td>\n      <td>Brain single cell 3181</td>\n      <td>GSM2615719</td>\n      <td>...</td>\n      <td>Mus musculus</td>\n      <td>Mouse_160301_pooled</td>\n      <td>C57BL/6</td>\n      <td>Pdgfra-H2BGFP</td>\n      <td>adult</td>\n      <td>Brain</td>\n      <td>OL</td>\n      <td>SAMN06932844</td>\n      <td>SRX2801824</td>\n      <td>1044770</td>\n    </tr>\n    <tr>\n      <th>Pdgfra2_P23</th>\n      <td>GSM2615721</td>\n      <td>https://www.ncbi.nlm.nih.gov/sra?term=SRX2801826</td>\n      <td>10090</td>\n      <td>https://www.ncbi.nlm.nih.gov/biosample/SAMN069...</td>\n      <td>c57bl/6</td>\n      <td>brain</td>\n      <td>pdgfra-h2bgfp</td>\n      <td>adult mice 12 to 15 weeks old</td>\n      <td>Brain single cell 3183</td>\n      <td>GSM2615721</td>\n      <td>...</td>\n      <td>Mus musculus</td>\n      <td>Mouse_160301_pooled</td>\n      <td>C57BL/6</td>\n      <td>Pdgfra-H2BGFP</td>\n      <td>adult</td>\n      <td>Brain</td>\n      <td>OL</td>\n      <td>SAMN06932842</td>\n      <td>SRX2801826</td>\n      <td>1009231</td>\n    </tr>\n    <tr>\n      <th>Pdgfra2_P24</th>\n      <td>GSM2615722</td>\n      <td>https://www.ncbi.nlm.nih.gov/sra?term=SRX2801827</td>\n      <td>10090</td>\n      <td>https://www.ncbi.nlm.nih.gov/biosample/SAMN069...</td>\n      <td>c57bl/6</td>\n      <td>brain</td>\n      <td>pdgfra-h2bgfp</td>\n      <td>adult mice 12 to 15 weeks old</td>\n      <td>Brain single cell 3184</td>\n      <td>GSM2615722</td>\n      <td>...</td>\n      <td>Mus musculus</td>\n      <td>Mouse_160301_pooled</td>\n      <td>C57BL/6</td>\n      <td>Pdgfra-H2BGFP</td>\n      <td>adult</td>\n      <td>Brain</td>\n      <td>OL</td>\n      <td>SAMN06932841</td>\n      <td>SRX2801827</td>\n      <td>1084118</td>\n    </tr>\n    <tr>\n      <th>Pdgfra2_P4</th>\n      <td>GSM2615723</td>\n      <td>https://www.ncbi.nlm.nih.gov/sra?term=SRX2801828</td>\n      <td>10090</td>\n      <td>https://www.ncbi.nlm.nih.gov/biosample/SAMN069...</td>\n      <td>c57bl/6</td>\n      <td>brain</td>\n      <td>pdgfra-h2bgfp</td>\n      <td>adult mice 12 to 15 weeks old</td>\n      <td>Brain single cell 3185</td>\n      <td>GSM2615723</td>\n      <td>...</td>\n      <td>Mus musculus</td>\n      <td>Mouse_160301_pooled</td>\n      <td>C57BL/6</td>\n      <td>Pdgfra-H2BGFP</td>\n      <td>adult</td>\n      <td>Brain</td>\n      <td>FB2</td>\n      <td>SAMN06932840</td>\n      <td>SRX2801828</td>\n      <td>991934</td>\n    </tr>\n    <tr>\n      <th>Pdgfra2_P7</th>\n      <td>GSM2615724</td>\n      <td>https://www.ncbi.nlm.nih.gov/sra?term=SRX2801829</td>\n      <td>10090</td>\n      <td>https://www.ncbi.nlm.nih.gov/biosample/SAMN069...</td>\n      <td>c57bl/6</td>\n      <td>brain</td>\n      <td>pdgfra-h2bgfp</td>\n      <td>adult mice 12 to 15 weeks old</td>\n      <td>Brain single cell 3186</td>\n      <td>GSM2615724</td>\n      <td>...</td>\n      <td>Mus musculus</td>\n      <td>Mouse_160301_pooled</td>\n      <td>C57BL/6</td>\n      <td>Pdgfra-H2BGFP</td>\n      <td>adult</td>\n      <td>Brain</td>\n      <td>OL</td>\n      <td>SAMN06932839</td>\n      <td>SRX2801829</td>\n      <td>976937</td>\n    </tr>\n  </tbody>\n</table>\n<p>3186 rows × 21 columns</p>\n</div>"
     },
     "metadata": {},
     "execution_count": 32
    }
   ],
   "source": []
  }
 ]
}